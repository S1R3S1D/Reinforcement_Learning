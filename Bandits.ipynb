{
  "nbformat": 4,
  "nbformat_minor": 0,
  "metadata": {
    "colab": {
      "name": "Bandits",
      "provenance": [],
      "authorship_tag": "ABX9TyP19YvasJTis4M4OhomNpt6",
      "include_colab_link": true
    },
    "kernelspec": {
      "name": "python3",
      "display_name": "Python 3"
    },
    "language_info": {
      "name": "python"
    }
  },
  "cells": [
    {
      "cell_type": "markdown",
      "metadata": {
        "id": "view-in-github",
        "colab_type": "text"
      },
      "source": [
        "<a href=\"https://colab.research.google.com/github/S1R3S1D/Reinforcement_Learning/blob/main/Bandits.ipynb\" target=\"_parent\"><img src=\"https://colab.research.google.com/assets/colab-badge.svg\" alt=\"Open In Colab\"/></a>"
      ]
    },
    {
      "cell_type": "markdown",
      "metadata": {
        "id": "pFX0FkkyBOVp"
      },
      "source": [
        "Importing Libraries"
      ]
    },
    {
      "cell_type": "code",
      "metadata": {
        "id": "vuhuLfbWBHNF"
      },
      "source": [
        "import numpy as np\n",
        "import torch\n",
        "from tqdm import tqdm\n",
        "import matplotlib.pyplot as plt\n"
      ],
      "execution_count": null,
      "outputs": []
    },
    {
      "cell_type": "markdown",
      "metadata": {
        "id": "23ANKDevBpLA"
      },
      "source": [
        "**Bandit Framework**"
      ]
    },
    {
      "cell_type": "code",
      "metadata": {
        "id": "0wymu_HeBeKB"
      },
      "source": [
        "class PowerSocket:\n",
        "  def __init__(self, q):\n",
        "    self.q = q                  #True Reward\n",
        "    self.initialize()\n",
        "\n",
        "  def initialize(self):\n",
        "    self.n = 0                  #Number of times this socket has been used\n",
        "    self.Q = 0                  #Estimated value of the charge of this socket\n",
        "\n",
        "  def charge(self):\n",
        "\n",
        "    value = np.random.randn()+self.q   #the reward is a guassian distribution with unit variance around the true\n",
        "\n",
        "    return 0 if value<0 else value\n",
        "\n",
        "  def update(self, r):\n",
        "    var = r - self.Q\n",
        "    self.n+=1\n",
        "    self.Q = self.Q + (1/self.n)*var\n",
        "\n",
        "  def sample(self):\n",
        "    return self.Q               #Returns the estimate of the reward (charge) of the socket\n"
      ],
      "execution_count": null,
      "outputs": []
    },
    {
      "cell_type": "markdown",
      "metadata": {
        "id": "CW79fHYDEjw4"
      },
      "source": [
        "Setting up the Power Sockets"
      ]
    },
    {
      "cell_type": "code",
      "metadata": {
        "id": "ZOhTBytiDwrU"
      },
      "source": [
        "socket_order = [2, 4, 1 ,3, 5]\n",
        "sockets = [PowerSocket(q*2+2) for q in socket_order]\n",
        "n_sockets = len(socket_order)"
      ],
      "execution_count": null,
      "outputs": []
    },
    {
      "cell_type": "markdown",
      "metadata": {
        "id": "MxtEgTy5GFVc"
      },
      "source": [
        "Plotting the Reward distribution of the power sockets"
      ]
    },
    {
      "cell_type": "code",
      "metadata": {
        "id": "wOiiP2LQENU1"
      },
      "source": [
        "steps = 10000\n",
        "rewards = np.zeros(shape = (steps, n_sockets))\n",
        "\n",
        "for socket_number, socket in enumerate(sockets):\n",
        "  for i in range(steps):\n",
        "    rewards[i, socket_number] = socket.charge()"
      ],
      "execution_count": null,
      "outputs": []
    },
    {
      "cell_type": "code",
      "metadata": {
        "colab": {
          "base_uri": "https://localhost:8080/",
          "height": 295
        },
        "id": "bv3gfBQzFekH",
        "outputId": "f93f845c-0c14-4633-8f62-e2e0b17e221f"
      },
      "source": [
        "plt.violinplot(rewards)   \n",
        "plt.xlabel('Socket')\n",
        "plt.ylabel('Reward Distribution (seconds of charge)') \n",
        "plt.title('Violin plot of the reward distribution for each socket')\n",
        "plt.show()"
      ],
      "execution_count": null,
      "outputs": [
        {
          "output_type": "display_data",
          "data": {
            "image/png": "[encoded data removed]",
            "text/plain": [
              "<Figure size 432x288 with 1 Axes>"
            ]
          },
          "metadata": {
            "needs_background": "light"
          }
        }
      ]
    },
    {
      "cell_type": "markdown",
      "metadata": {
        "id": "gUUuBszGIMm-"
      },
      "source": [
        "Random Argmax Function"
      ]
    },
    {
      "cell_type": "code",
      "metadata": {
        "id": "EeEXSg50HYeO"
      },
      "source": [
        "def random_argmax(value_list):\n",
        "  \"\"\" a random tie-breaking argmax\"\"\"\n",
        "  values = np.asarray(value_list)\n",
        "  return np.argmax(np.random.random(values.shape) * (values==values.max()))"
      ],
      "execution_count": null,
      "outputs": []
    },
    {
      "cell_type": "markdown",
      "metadata": {
        "id": "DbdxR_y-GW59"
      },
      "source": [
        "Setting up the Charging Station for testing"
      ]
    },
    {
      "cell_type": "code",
      "metadata": {
        "id": "1PLGT7E8FhL9"
      },
      "source": [
        "class SocketTestbed():\n",
        "\n",
        "  def __init__(self, socket = PowerSocket, socket_order = socket_order, multiplier=2):\n",
        "\n",
        "    self.sockets = [socket(q*multiplier+2) for q in socket_order]\n",
        "\n",
        "\n",
        "  def chargeAndUpdate(self, socket_i):\n",
        "    reward = self.socket.charge()\n",
        "    self.socket.update(reward)\n",
        "\n",
        "  def selectSocket(self):\n",
        "    return random_argmax([socket.sample() for socket in self.sockets])\n",
        "\n",
        "  def run(self, n_steps):\n",
        "    for i in range(n_steps):\n",
        "      socket_i = self.selectSocket()\n",
        "      self.chargeAndUpdate(socket_i)\n"
      ],
      "execution_count": null,
      "outputs": []
    },
    {
      "cell_type": "markdown",
      "metadata": {
        "id": "0nuG6Mng36jj"
      },
      "source": [
        "**Optimistic Greedy Algorithm Experiment**"
      ]
    },
    {
      "cell_type": "code",
      "metadata": {
        "id": "OjU8oNe84Zdf"
      },
      "source": [
        "class OptimisticPowerSocket( PowerSocket ):\n",
        "    def __init__(self, q, initial_estimate ):    \n",
        "        super().__init__(q)\n",
        "        \n",
        "        self.Q = initial_estimate                 \n",
        "        self.n = 1   "
      ],
      "execution_count": null,
      "outputs": []
    },
    {
      "cell_type": "code",
      "metadata": {
        "id": "La-FQEVo31E1"
      },
      "source": [
        "class OGreedySocketTestbed(SocketTestbed):\n",
        "  def __init__(self, socket = OptimisticPowerSocket, initial_estimate = 20,socket_order = socket_order ):\n",
        "    self.sockets = [socket(q*2+2, initial_estimate=initial_estimate) for q in socket_order]\n",
        "    self.rewards = np.zeros(shape=(30, 6))\n",
        "    self.rando = np.zeros(shape=(1, 5))\n",
        "\n",
        "  def chargeAndUpdate(self, socket_i):\n",
        "    reward = self.sockets[socket_i].charge()\n",
        "    self.sockets[socket_i].update(reward)\n",
        "    return reward\n",
        "    \n",
        "\n",
        "  def selectSocket(self):\n",
        "    return random_argmax([socket.sample() for socket in self.sockets])\n",
        "\n",
        "  def run(self, n_steps):\n",
        "    actual_reward=0\n",
        "    for i in range(n_steps):\n",
        "      socket_i = self.selectSocket()\n",
        "      actual_reward = self.chargeAndUpdate(socket_i)\n",
        "    return actual_reward\n",
        "  def init_est(self):\n",
        "    for i in range(1):\n",
        "      \n",
        "      for j in range(5):\n",
        "        socket = self.sockets[j]\n",
        "        self.rando[i, j]=socket.sample()\n",
        "\n",
        "    return self.rando\n",
        "\n",
        "  def stats(self):\n",
        "    self.OptimalReward = max([socket.q for socket in self.sockets])\n",
        "    self.AverageReward = sum([socket.q for socket in self.sockets])/len(self.sockets)\n",
        "    self.Reward = max([socket.sample() for socket in self.sockets])\n",
        "\n",
        "    print(\"Optimal Reward : \",self.OptimalReward )\n",
        "    print(\"Average Reward : \",self.AverageReward)\n",
        "    print(\"Reward : \",self.Reward)\n",
        "    print(\"Array :\")\n",
        "    print(self.rewards)\n",
        "\n",
        "\n"
      ],
      "execution_count": null,
      "outputs": []
    },
    {
      "cell_type": "code",
      "metadata": {
        "id": "Z4sy6BGs6X9d"
      },
      "source": [
        "ex = OGreedySocketTestbed(initial_estimate=11)\n"
      ],
      "execution_count": null,
      "outputs": []
    },
    {
      "cell_type": "code",
      "metadata": {
        "id": "6VlxjV046nYs"
      },
      "source": [
        "print(ex.init_est())\n",
        "ex.run(30)\n",
        "ex.stats()"
      ],
      "execution_count": null,
      "outputs": []
    },
    {
      "cell_type": "code",
      "metadata": {
        "id": "OH0jGtKSBncD"
      },
      "source": [
        "y_vals = []"
      ],
      "execution_count": null,
      "outputs": []
    },
    {
      "cell_type": "code",
      "metadata": {
        "id": "T0YL_kB5_kUZ"
      },
      "source": [
        "for i in range(1, 101):\n",
        "  v = 0\n",
        "  for j in range(1000):\n",
        "    ex = OGreedySocketTestbed(initial_estimate=i)\n",
        "    v += ex.run(30)/1000\n",
        "  y_vals.append(v)\n",
        "\n",
        "\n"
      ],
      "execution_count": null,
      "outputs": []
    },
    {
      "cell_type": "code",
      "metadata": {
        "colab": {
          "base_uri": "https://localhost:8080/"
        },
        "id": "LII6wpd1BBDD",
        "outputId": "cfe57aa2-d2f2-48bb-f5b7-1173ec29f736"
      },
      "source": [
        "print(y_vals)"
      ],
      "execution_count": null,
      "outputs": [
        {
          "output_type": "stream",
          "text": [
            "[11.289051889596093, 12.348245496343704, 5.734165766623737, 14.591632927482047, 12.889109447153313, 12.566363977020124, 9.681874118371844, 11.728755824851149, 9.92046244030916, 11.912614982842376, 13.733763979476738, 12.554291805240958, 12.703673096441461, 10.97849125791172, 12.521533024261792, 11.586707336772864, 11.582036746542782, 12.980437855086462, 12.79404650169358, 12.387132599101092, 11.420498836477849, 10.723624798881106, 10.489737654795308, 13.277654783883403, 10.542227803988597, 11.928728375784672, 10.008042778875744, 12.02419286434663, 9.717823197022462, 11.320390889084733, 11.186230029681171, 2.313193324696915, 9.995814192902357, 12.995158964836866, 12.447261440900954, 11.147538962506086, 4.503707833972433, 15.145818555618138, 11.353885714292625, 13.381552178009564, 11.694973449593965, 8.623742509427876, 8.682265990796745, 12.61423027804142, 10.516431956796856, 11.814295119729124, 13.335407689068143, 13.047453123211456, 5.143749412544781, 12.322655798168725, 13.319457174590845, 7.415890645586797, 4.796603312600192, 13.021961693213754, 9.00378923658789, 10.741313392675012, 11.907618202110042, 10.403545469620882, 7.19730312850041, 4.907272046568626, 9.599927229546132, 4.860187117763273, 8.470370910981837, 11.080482121893654, 3.613240812691622, 4.2677554592407265, 11.81719727584629, 9.576787711601014, 12.107398990001725, 10.533249934864198, 7.648679976744372, 7.971490462576527, 11.841186053616193, 10.84003901665075, 13.695939456599802, 9.379356212582113, 10.929380483663614, 8.399377716039096, 6.772803121942304, 7.493936866405225, 11.113110621092655, 8.594576554647297, 13.541207113281992, 10.11784883239319, 5.075649437424778, 11.406862295519698, 10.034680200399823, 10.43705713051568, 10.740810206032489, 10.73009595358064, 13.454698502270366, 10.135245574818876, 10.496780146080177, 8.551032345992299, 7.04231528920658, 8.83868251084224, 7.997945426871964, 10.325391126139543, 6.187919063425079, 9.69229888649317]\n"
          ],
          "name": "stdout"
        }
      ]
    },
    {
      "cell_type": "code",
      "metadata": {
        "colab": {
          "base_uri": "https://localhost:8080/",
          "height": 265
        },
        "id": "Wgtg_i8sB6aL",
        "outputId": "7a9f242a-2076-4a28-ca53-20ffd76d1068"
      },
      "source": [
        "plt.plot([i for i in range(1, 101)], y_vals)\n",
        "plt.show()"
      ],
      "execution_count": null,
      "outputs": [
        {
          "output_type": "display_data",
          "data": {
            "image/png": "[encoded data removed]",
            "text/plain": [
              "<Figure size 432x288 with 1 Axes>"
            ]
          },
          "metadata": {
            "needs_background": "light"
          }
        }
      ]
    },
    {
      "cell_type": "markdown",
      "metadata": {
        "id": "6_Yuclf5MJF9"
      },
      "source": [
        "**ε-Greedy Method**"
      ]
    },
    {
      "cell_type": "code",
      "metadata": {
        "id": "iOOU4JRvCZQ4"
      },
      "source": [
        "class epsilonGreedyTestbed():\n",
        "  def __init__(self, socket = PowerSocket,socket_order = socket_order,epsilon = 0., multiplier = 2 ):\n",
        "    self.sockets = [socket(q*multiplier+2) for q in socket_order]\n",
        "    self.epsilon = epsilon\n",
        "    self.number_of_sockets = len(self.sockets)\n",
        "\n",
        "  def chargeAndUpdate(self, socket_i):\n",
        "    reward = self.sockets[socket_i].charge()\n",
        "    self.sockets[socket_i].update(reward)\n",
        "    return reward\n",
        "\n",
        "  def select_socket( self):\n",
        "    p = np.random.random()\n",
        "\n",
        "    if p < self.epsilon:\n",
        "      socket_index = np.random.choice(self.number_of_sockets)\n",
        "    else:\n",
        "      socket_index = random_argmax([socket.sample() for socket in self.sockets])               \n",
        "        \n",
        "    return socket_index\n",
        "\n",
        "  def run(self, n_steps):\n",
        "    actual_award = 0\n",
        "    for i in range(n_steps):\n",
        "      socket_i = self.select_socket()\n",
        "      actual_award = self.chargeAndUpdate(socket_i)\n",
        "    return actual_award\n",
        "  \n",
        "  def test(self, n_runs):\n",
        "    avg_reward = 0\n",
        "    for i in range(n_runs):\n",
        "      avg_reward += self.run(100)/n_runs\n",
        "    return avg_reward\n",
        "\n",
        "       "
      ],
      "execution_count": null,
      "outputs": []
    },
    {
      "cell_type": "code",
      "metadata": {
        "id": "JkuVk4v6OWcr"
      },
      "source": [
        "rews = []\n",
        "for i in range(101):\n",
        "  ex = epsilonGreedyTestbed(epsilon=i/100)\n",
        "  rews.append(ex.test(1000))"
      ],
      "execution_count": null,
      "outputs": []
    },
    {
      "cell_type": "code",
      "metadata": {
        "id": "Nur1lzm0RrJU"
      },
      "source": [
        "eps = [ep/100 for ep in range(101)]"
      ],
      "execution_count": null,
      "outputs": []
    },
    {
      "cell_type": "code",
      "metadata": {
        "colab": {
          "base_uri": "https://localhost:8080/",
          "height": 265
        },
        "id": "xT0T0qTeTABI",
        "outputId": "8050013b-6919-4b6e-952e-debd2a974d27"
      },
      "source": [
        "plt.plot( eps,rews)\n",
        "plt.show()"
      ],
      "execution_count": null,
      "outputs": [
        {
          "output_type": "display_data",
          "data": {
            "image/png": "[encoded data removed]",
            "text/plain": [
              "<Figure size 432x288 with 1 Axes>"
            ]
          },
          "metadata": {
            "needs_background": "light"
          }
        }
      ]
    },
    {
      "cell_type": "markdown",
      "metadata": {
        "id": "kpehTNACj8nW"
      },
      "source": [
        "**Upper Confidence Bound Algorithm**"
      ]
    },
    {
      "cell_type": "code",
      "metadata": {
        "id": "VDc9-_SMTFLB"
      },
      "source": [
        "class UCBSocket(PowerSocket):\n",
        "  def __init__(self, q, confidence_level):\n",
        "    self.confidence_level = confidence_level\n",
        "    super(UCBSocket, self).__init__(q)\n",
        "\n",
        "  def uncertainity(self, t):\n",
        "    if self.n==0: return float('inf')\n",
        "    return self.confidence_level * (np.sqrt(np.log(t) / self.n))\n",
        "  \n",
        "  def sample(self, t):\n",
        "    return self.Q + self.uncertainity(t)"
      ],
      "execution_count": null,
      "outputs": []
    },
    {
      "cell_type": "code",
      "metadata": {
        "id": "vv61-Bmyk82Q"
      },
      "source": [
        "class UCBTestbed():\n",
        "  def __init__(self, socket=UCBSocket, socket_order=socket_order, multiplier = 2, c=2):\n",
        "    self.sockets = [socket(q*multiplier+2, confidence_level = c) for q in socket_order]\n",
        "    self.number_of_sockets = len(self.sockets)\n",
        "\n",
        "  def chargeAndUpdate(self, socket_i):\n",
        "    reward = self.sockets[socket_i].charge()\n",
        "    self.sockets[socket_i].update(reward)\n",
        "    return reward\n",
        "\n",
        "  def selectSocket(self, t):\n",
        "    socket_index = random_argmax([socket.sample(t+1) for socket in self.sockets])\n",
        "    return socket_index\n",
        "\n",
        "  def run(self, n_steps):\n",
        "    actual_award = 0\n",
        "    for i in range(n_steps):\n",
        "      socket_i = self.selectSocket(i)\n",
        "      actual_award = self.chargeAndUpdate(socket_i)\n",
        "    return actual_award\n",
        "  \n",
        "  def test(self, n_runs):\n",
        "    avg_reward = 0\n",
        "    for i in range(n_runs):\n",
        "      avg_reward += self.run(100)/n_runs\n",
        "    return avg_reward\n",
        "  "
      ],
      "execution_count": null,
      "outputs": []
    },
    {
      "cell_type": "code",
      "metadata": {
        "colab": {
          "base_uri": "https://localhost:8080/"
        },
        "id": "YdHqGw8Tmt3U",
        "outputId": "04adf050-9ce8-4abc-f306-2a6a7f7bb7d7"
      },
      "source": [
        "rews=[]\n",
        "for c in tqdm(range(1, 101)):\n",
        "  ex = UCBTestbed(c=c)\n",
        "  rews.append(ex.test(1000))"
      ],
      "execution_count": null,
      "outputs": [
        {
          "output_type": "stream",
          "text": [
            "100%|██████████| 100/100 [06:56<00:00,  4.17s/it]\n"
          ],
          "name": "stderr"
        }
      ]
    },
    {
      "cell_type": "code",
      "metadata": {
        "colab": {
          "base_uri": "https://localhost:8080/",
          "height": 265
        },
        "id": "pWLuNeOAvMsv",
        "outputId": "716728d0-bec1-4dbd-fcf6-f590286decc2"
      },
      "source": [
        "plt.plot([x for x in range(1, 101)], rews)\n",
        "plt.show()"
      ],
      "execution_count": null,
      "outputs": [
        {
          "output_type": "display_data",
          "data": {
            "image/png": "[encoded data removed]",
            "text/plain": [
              "<Figure size 432x288 with 1 Axes>"
            ]
          },
          "metadata": {
            "needs_background": "light"
          }
        }
      ]
    },
    {
      "cell_type": "markdown",
      "metadata": {
        "id": "7j3lJgbk0HYF"
      },
      "source": [
        "Comparing Algorithms"
      ]
    },
    {
      "cell_type": "code",
      "metadata": {
        "id": "iZDCl0Y00vUS"
      },
      "source": [
        "class OGComp():\n",
        "  def __init__(self, socket = OptimisticPowerSocket, initial_estimate = 20,socket_order = socket_order, n_steps=200 ):\n",
        "    self.sockets = [socket(q*2+2, initial_estimate=initial_estimate) for q in socket_order]\n",
        "    self.rewards = [0]\n",
        "    self.n_steps = n_steps\n",
        "\n",
        "  def chargeAndUpdate(self, socket_i):\n",
        "    reward = self.sockets[socket_i].charge()\n",
        "    self.sockets[socket_i].update(reward)\n",
        "    return reward\n",
        "\n",
        "  def selectSocket(self):\n",
        "    return random_argmax([socket.sample() for socket in self.sockets])\n",
        "\n",
        "  def run(self):\n",
        "    reward = 0\n",
        "    for i in range(1, self.n_steps+1):\n",
        "      socket_i = self.selectSocket()\n",
        "      reward += self.chargeAndUpdate(socket_i)\n",
        "      self.rewards.append(reward)\n",
        "\n",
        "  def stats(self):\n",
        "    return ([i for i in range(self.n_steps+1)], self.rewards)\n",
        "\n",
        "  \n",
        "      "
      ],
      "execution_count": null,
      "outputs": []
    },
    {
      "cell_type": "code",
      "metadata": {
        "id": "9Tr5ycQN2ZwH"
      },
      "source": [
        "ex = OGComp(initial_estimate=11, n_steps=1000)\n",
        "ex.run()\n",
        "(x_og, y_og)=ex.stats()"
      ],
      "execution_count": null,
      "outputs": []
    },
    {
      "cell_type": "code",
      "metadata": {
        "id": "iUtIefXz23-V"
      },
      "source": [
        "class EGComp():\n",
        "  def __init__(self, socket = PowerSocket,socket_order = socket_order,epsilon = 0., multiplier = 2 ):\n",
        "    self.sockets = [socket(q*multiplier+2) for q in socket_order]\n",
        "    self.epsilon = epsilon\n",
        "    self.number_of_sockets = len(self.sockets)\n",
        "    self.cum_reward = [0]\n",
        "  \n",
        "  def chargeAndUpdate(self, socket_i):\n",
        "    reward = self.sockets[socket_i].charge()\n",
        "    self.sockets[socket_i].update(reward)\n",
        "    return reward\n",
        "\n",
        "  def select_socket( self):\n",
        "    p = np.random.random()\n",
        "\n",
        "    if p < self.epsilon:\n",
        "      socket_index = np.random.choice(self.number_of_sockets)\n",
        "    else:\n",
        "      socket_index = random_argmax([socket.sample() for socket in self.sockets])               \n",
        "        \n",
        "    return socket_index\n",
        "\n",
        "  def run(self, n_steps):\n",
        "    actual_award = 0\n",
        "    for i in range(n_steps):\n",
        "      socket_i = self.select_socket()\n",
        "      actual_award += self.chargeAndUpdate(socket_i)\n",
        "      self.cum_reward.append(actual_award)\n",
        "    return self.cum_reward\n",
        "\n",
        "  def test(self, n_steps):\n",
        "    return ([i for i in range(n_steps+1)],self.run(n_steps))\n"
      ],
      "execution_count": null,
      "outputs": []
    },
    {
      "cell_type": "code",
      "metadata": {
        "id": "Y723ZfPC1eY-"
      },
      "source": [
        "eex = EGComp(epsilon=0.01)\n",
        "(x_eg, y_eg) = eex.test(n_steps=1000)"
      ],
      "execution_count": null,
      "outputs": []
    },
    {
      "cell_type": "code",
      "metadata": {
        "id": "9wpoJtcD4Czs"
      },
      "source": [
        "class UCBComp():\n",
        "  def __init__(self, socket=UCBSocket, socket_order=socket_order, multiplier = 2, c=2):\n",
        "    self.sockets = [socket(q*multiplier+2, confidence_level = c) for q in socket_order]\n",
        "    self.number_of_sockets = len(self.sockets)\n",
        "    self.cum_reward = [0]\n",
        "\n",
        "  def chargeAndUpdate(self, socket_i):\n",
        "    reward = self.sockets[socket_i].charge()\n",
        "    self.sockets[socket_i].update(reward)\n",
        "    return reward\n",
        "\n",
        "  def selectSocket(self, t):\n",
        "    socket_index = random_argmax([socket.sample(t+1) for socket in self.sockets])\n",
        "    return socket_index\n",
        "\n",
        "  def run(self, n_steps):\n",
        "    actual_award = 0\n",
        "    for i in range(n_steps):\n",
        "      socket_i = self.selectSocket(i)\n",
        "      actual_award += self.chargeAndUpdate(socket_i)\n",
        "      self.cum_reward.append(actual_award)\n",
        "\n",
        "    return self.cum_reward\n",
        "\n",
        "  def test(self, n_steps):\n",
        "    return([x for x in range(n_steps+1)], self.run(n_steps))\n"
      ],
      "execution_count": null,
      "outputs": []
    },
    {
      "cell_type": "code",
      "metadata": {
        "id": "CWglk1CJ43uo"
      },
      "source": [
        "ux = UCBComp()\n",
        "(x_ucb,y_ucb)=ux.test(1000)"
      ],
      "execution_count": null,
      "outputs": []
    },
    {
      "cell_type": "code",
      "metadata": {
        "colab": {
          "base_uri": "https://localhost:8080/",
          "height": 265
        },
        "id": "RKGZq7__2lQo",
        "outputId": "64a01e84-aa7a-4c02-b516-1912ddf48f00"
      },
      "source": [
        "plt.plot(x_eg, y_eg,color = 'Blue',label=\"ε Greedy\")\n",
        "plt.plot(x_og, y_og,color = 'Red',label='Optimistic Greedy')\n",
        "plt.plot(x_ucb, y_ucb, color='Yellow',label=\"UCB\")\n",
        "plt.legend()\n",
        "plt.show()"
      ],
      "execution_count": null,
      "outputs": [
        {
          "output_type": "display_data",
          "data": {
            "image/png": "[encoded data removed]",
            "text/plain": [
              "<Figure size 432x288 with 1 Axes>"
            ]
          },
          "metadata": {
            "needs_background": "light"
          }
        }
      ]
    }
  ]
}